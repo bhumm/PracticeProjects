{
 "cells": [
  {
   "cell_type": "markdown",
   "id": "be1c0ecb",
   "metadata": {},
   "source": [
    "# Datacamp Practical Exam - Fitness Class"
   ]
  },
  {
   "cell_type": "markdown",
   "id": "f558cbff",
   "metadata": {},
   "source": [
    "### Question 1"
   ]
  },
  {
   "cell_type": "code",
   "execution_count": 537,
   "id": "be4777ea",
   "metadata": {},
   "outputs": [],
   "source": [
    "# Load libraries\n",
    "import pandas as pd\n",
    "from matplotlib import pyplot\n",
    "import seaborn as sns\n",
    "from scipy import stats"
   ]
  },
  {
   "cell_type": "code",
   "execution_count": 538,
   "id": "629f49ee",
   "metadata": {},
   "outputs": [],
   "source": [
    "# Load in data\n",
    "file = '/Users/blakehummer/Desktop/fitness_class_2212.csv'\n",
    "data = pd.read_csv(file)"
   ]
  },
  {
   "cell_type": "code",
   "execution_count": 539,
   "id": "97518339",
   "metadata": {},
   "outputs": [
    {
     "data": {
      "text/html": [
       "<div>\n",
       "<style scoped>\n",
       "    .dataframe tbody tr th:only-of-type {\n",
       "        vertical-align: middle;\n",
       "    }\n",
       "\n",
       "    .dataframe tbody tr th {\n",
       "        vertical-align: top;\n",
       "    }\n",
       "\n",
       "    .dataframe thead th {\n",
       "        text-align: right;\n",
       "    }\n",
       "</style>\n",
       "<table border=\"1\" class=\"dataframe\">\n",
       "  <thead>\n",
       "    <tr style=\"text-align: right;\">\n",
       "      <th></th>\n",
       "      <th>booking_id</th>\n",
       "      <th>months_as_member</th>\n",
       "      <th>weight</th>\n",
       "      <th>days_before</th>\n",
       "      <th>day_of_week</th>\n",
       "      <th>time</th>\n",
       "      <th>category</th>\n",
       "      <th>attended</th>\n",
       "    </tr>\n",
       "  </thead>\n",
       "  <tbody>\n",
       "    <tr>\n",
       "      <th>0</th>\n",
       "      <td>1</td>\n",
       "      <td>17</td>\n",
       "      <td>79.56</td>\n",
       "      <td>8</td>\n",
       "      <td>Wed</td>\n",
       "      <td>PM</td>\n",
       "      <td>Strength</td>\n",
       "      <td>0</td>\n",
       "    </tr>\n",
       "    <tr>\n",
       "      <th>1</th>\n",
       "      <td>2</td>\n",
       "      <td>10</td>\n",
       "      <td>79.01</td>\n",
       "      <td>2</td>\n",
       "      <td>Mon</td>\n",
       "      <td>AM</td>\n",
       "      <td>HIIT</td>\n",
       "      <td>0</td>\n",
       "    </tr>\n",
       "    <tr>\n",
       "      <th>2</th>\n",
       "      <td>3</td>\n",
       "      <td>16</td>\n",
       "      <td>74.53</td>\n",
       "      <td>14</td>\n",
       "      <td>Sun</td>\n",
       "      <td>AM</td>\n",
       "      <td>Strength</td>\n",
       "      <td>0</td>\n",
       "    </tr>\n",
       "    <tr>\n",
       "      <th>3</th>\n",
       "      <td>4</td>\n",
       "      <td>5</td>\n",
       "      <td>86.12</td>\n",
       "      <td>10</td>\n",
       "      <td>Fri</td>\n",
       "      <td>AM</td>\n",
       "      <td>Cycling</td>\n",
       "      <td>0</td>\n",
       "    </tr>\n",
       "    <tr>\n",
       "      <th>4</th>\n",
       "      <td>5</td>\n",
       "      <td>15</td>\n",
       "      <td>69.29</td>\n",
       "      <td>8</td>\n",
       "      <td>Thu</td>\n",
       "      <td>AM</td>\n",
       "      <td>HIIT</td>\n",
       "      <td>0</td>\n",
       "    </tr>\n",
       "    <tr>\n",
       "      <th>5</th>\n",
       "      <td>6</td>\n",
       "      <td>7</td>\n",
       "      <td>93.33</td>\n",
       "      <td>2</td>\n",
       "      <td>Mon</td>\n",
       "      <td>AM</td>\n",
       "      <td>Cycling</td>\n",
       "      <td>0</td>\n",
       "    </tr>\n",
       "    <tr>\n",
       "      <th>6</th>\n",
       "      <td>7</td>\n",
       "      <td>11</td>\n",
       "      <td>88.59</td>\n",
       "      <td>6</td>\n",
       "      <td>Wednesday</td>\n",
       "      <td>PM</td>\n",
       "      <td>HIIT</td>\n",
       "      <td>0</td>\n",
       "    </tr>\n",
       "    <tr>\n",
       "      <th>7</th>\n",
       "      <td>8</td>\n",
       "      <td>9</td>\n",
       "      <td>89.52</td>\n",
       "      <td>10</td>\n",
       "      <td>Fri</td>\n",
       "      <td>AM</td>\n",
       "      <td>HIIT</td>\n",
       "      <td>0</td>\n",
       "    </tr>\n",
       "    <tr>\n",
       "      <th>8</th>\n",
       "      <td>9</td>\n",
       "      <td>23</td>\n",
       "      <td>71.12</td>\n",
       "      <td>10</td>\n",
       "      <td>Fri.</td>\n",
       "      <td>AM</td>\n",
       "      <td>HIIT</td>\n",
       "      <td>1</td>\n",
       "    </tr>\n",
       "    <tr>\n",
       "      <th>9</th>\n",
       "      <td>10</td>\n",
       "      <td>7</td>\n",
       "      <td>81.25</td>\n",
       "      <td>10</td>\n",
       "      <td>Fri</td>\n",
       "      <td>AM</td>\n",
       "      <td>HIIT</td>\n",
       "      <td>0</td>\n",
       "    </tr>\n",
       "  </tbody>\n",
       "</table>\n",
       "</div>"
      ],
      "text/plain": [
       "   booking_id  months_as_member  weight days_before day_of_week time  \\\n",
       "0           1                17   79.56           8         Wed   PM   \n",
       "1           2                10   79.01           2         Mon   AM   \n",
       "2           3                16   74.53          14         Sun   AM   \n",
       "3           4                 5   86.12          10         Fri   AM   \n",
       "4           5                15   69.29           8         Thu   AM   \n",
       "5           6                 7   93.33           2         Mon   AM   \n",
       "6           7                11   88.59           6   Wednesday   PM   \n",
       "7           8                 9   89.52          10         Fri   AM   \n",
       "8           9                23   71.12          10        Fri.   AM   \n",
       "9          10                 7   81.25          10         Fri   AM   \n",
       "\n",
       "   category  attended  \n",
       "0  Strength         0  \n",
       "1      HIIT         0  \n",
       "2  Strength         0  \n",
       "3   Cycling         0  \n",
       "4      HIIT         0  \n",
       "5   Cycling         0  \n",
       "6      HIIT         0  \n",
       "7      HIIT         0  \n",
       "8      HIIT         1  \n",
       "9      HIIT         0  "
      ]
     },
     "execution_count": 539,
     "metadata": {},
     "output_type": "execute_result"
    }
   ],
   "source": [
    "# Take a look\n",
    "data.head(10)"
   ]
  },
  {
   "cell_type": "code",
   "execution_count": 540,
   "id": "a080d71b",
   "metadata": {},
   "outputs": [
    {
     "data": {
      "text/plain": [
       "booking_id            int64\n",
       "months_as_member      int64\n",
       "weight              float64\n",
       "days_before          object\n",
       "day_of_week          object\n",
       "time                 object\n",
       "category             object\n",
       "attended              int64\n",
       "dtype: object"
      ]
     },
     "execution_count": 540,
     "metadata": {},
     "output_type": "execute_result"
    }
   ],
   "source": [
    "# Check data types\n",
    "data.dtypes"
   ]
  },
  {
   "cell_type": "code",
   "execution_count": 541,
   "id": "e9e77fab",
   "metadata": {},
   "outputs": [
    {
     "data": {
      "text/plain": [
       "booking_id           0\n",
       "months_as_member     0\n",
       "weight              20\n",
       "days_before          0\n",
       "day_of_week          0\n",
       "time                 0\n",
       "category             0\n",
       "attended             0\n",
       "dtype: int64"
      ]
     },
     "execution_count": 541,
     "metadata": {},
     "output_type": "execute_result"
    }
   ],
   "source": [
    "# Find missing values\n",
    "data.isnull().sum()"
   ]
  },
  {
   "cell_type": "code",
   "execution_count": 542,
   "id": "f6b5d3cc",
   "metadata": {},
   "outputs": [
    {
     "name": "stdout",
     "output_type": "stream",
     "text": [
      "1       1\n",
      "998     1\n",
      "1007    1\n",
      "1006    1\n",
      "1005    1\n",
      "       ..\n",
      "498     1\n",
      "497     1\n",
      "496     1\n",
      "495     1\n",
      "1500    1\n",
      "Name: booking_id, Length: 1500, dtype: int64\n",
      "8      99\n",
      "7      93\n",
      "6      92\n",
      "9      85\n",
      "5      80\n",
      "       ..\n",
      "60      1\n",
      "90      1\n",
      "105     1\n",
      "62      1\n",
      "69      1\n",
      "Name: months_as_member, Length: 72, dtype: int64\n",
      "78.28    5\n",
      "84.64    4\n",
      "75.63    4\n",
      "76.18    3\n",
      "69.00    3\n",
      "        ..\n",
      "65.01    1\n",
      "73.09    1\n",
      "86.22    1\n",
      "79.44    1\n",
      "94.39    1\n",
      "Name: weight, Length: 1241, dtype: int64\n",
      "10         293\n",
      "2          199\n",
      "8          194\n",
      "12         178\n",
      "14         172\n",
      "4          154\n",
      "6           70\n",
      "7           38\n",
      "3           31\n",
      "5           30\n",
      "11          26\n",
      "13          25\n",
      "15          24\n",
      "9           24\n",
      "1            9\n",
      "10 days      6\n",
      "14 days      3\n",
      "12 days      3\n",
      "6 days       3\n",
      "4 days       3\n",
      "16           3\n",
      "17           3\n",
      "20           1\n",
      "2 days       1\n",
      "5 days       1\n",
      "7 days       1\n",
      "8 days       1\n",
      "1 days       1\n",
      "3 days       1\n",
      "13 days      1\n",
      "29           1\n",
      "Name: days_before, dtype: int64\n",
      "Fri          279\n",
      "Thu          241\n",
      "Mon          218\n",
      "Sun          213\n",
      "Sat          202\n",
      "Tue          195\n",
      "Wed           81\n",
      "Wednesday     35\n",
      "Fri.          26\n",
      "Monday        10\n",
      "Name: day_of_week, dtype: int64\n",
      "AM    1141\n",
      "PM     359\n",
      "Name: time, dtype: int64\n",
      "HIIT        667\n",
      "Cycling     376\n",
      "Strength    233\n",
      "Yoga        135\n",
      "Aqua         76\n",
      "-            13\n",
      "Name: category, dtype: int64\n",
      "0    1046\n",
      "1     454\n",
      "Name: attended, dtype: int64\n"
     ]
    }
   ],
   "source": [
    "# Look at values\n",
    "for col in data.columns:\n",
    "    print(data[col].value_counts())"
   ]
  },
  {
   "cell_type": "code",
   "execution_count": 543,
   "id": "f017d4e8",
   "metadata": {},
   "outputs": [],
   "source": [
    "# Impute and correct values and data types\n",
    "data['booking_id'] = data['booking_id'].astype('category')"
   ]
  },
  {
   "cell_type": "code",
   "execution_count": 544,
   "id": "cd6882cf",
   "metadata": {},
   "outputs": [
    {
     "data": {
      "text/plain": [
       "0"
      ]
     },
     "execution_count": 544,
     "metadata": {},
     "output_type": "execute_result"
    }
   ],
   "source": [
    "data['weight'].fillna(data['weight'].mean(), inplace = True)\n",
    "data['weight'].isnull().sum()"
   ]
  },
  {
   "cell_type": "code",
   "execution_count": 545,
   "id": "5a2544a9",
   "metadata": {},
   "outputs": [
    {
     "data": {
      "text/plain": [
       "10    299\n",
       "2     200\n",
       "8     195\n",
       "12    181\n",
       "14    175\n",
       "4     157\n",
       "6      73\n",
       "7      39\n",
       "3      32\n",
       "5      31\n",
       "13     26\n",
       "11     26\n",
       "9      24\n",
       "15     24\n",
       "1      10\n",
       "16      3\n",
       "17      3\n",
       "20      1\n",
       "29      1\n",
       "Name: days_before, dtype: int64"
      ]
     },
     "execution_count": 545,
     "metadata": {},
     "output_type": "execute_result"
    }
   ],
   "source": [
    "data['days_before'] = data['days_before'].str.replace(' days', '').astype('int64')\n",
    "data['days_before'].value_counts()"
   ]
  },
  {
   "cell_type": "code",
   "execution_count": 546,
   "id": "3f9eff59",
   "metadata": {},
   "outputs": [
    {
     "data": {
      "text/plain": [
       "Fri    305\n",
       "Thu    241\n",
       "Mon    228\n",
       "Sun    213\n",
       "Sat    202\n",
       "Tue    195\n",
       "Wed    116\n",
       "Name: day_of_week, dtype: int64"
      ]
     },
     "execution_count": 546,
     "metadata": {},
     "output_type": "execute_result"
    }
   ],
   "source": [
    "data['day_of_week'] = data['day_of_week'].str.replace('.', '', regex = False)\n",
    "data['day_of_week'] = data['day_of_week'].str.replace('Wednesday', 'Wed')\n",
    "data['day_of_week'] = data['day_of_week'].str.replace('Monday', 'Mon')\n",
    "data['day_of_week'] = data['day_of_week'].astype('category')\n",
    "data['day_of_week'].value_counts()"
   ]
  },
  {
   "cell_type": "code",
   "execution_count": 547,
   "id": "60909aeb",
   "metadata": {},
   "outputs": [],
   "source": [
    "data['time'] = pd.Categorical(data['time'], categories = ['AM', 'PM'], ordered = True)"
   ]
  },
  {
   "cell_type": "code",
   "execution_count": 548,
   "id": "74edc590",
   "metadata": {},
   "outputs": [
    {
     "data": {
      "text/plain": [
       "HIIT        667\n",
       "Cycling     376\n",
       "Strength    233\n",
       "Yoga        135\n",
       "Aqua         76\n",
       "unknown      13\n",
       "Name: category, dtype: int64"
      ]
     },
     "execution_count": 548,
     "metadata": {},
     "output_type": "execute_result"
    }
   ],
   "source": [
    "data['category'] = data['category'].str.replace('-', 'unknown').astype('category')\n",
    "data['category'].value_counts()"
   ]
  },
  {
   "cell_type": "code",
   "execution_count": 549,
   "id": "488b6de4",
   "metadata": {},
   "outputs": [
    {
     "data": {
      "text/plain": [
       "booking_id          category\n",
       "months_as_member       int64\n",
       "weight               float64\n",
       "days_before            int64\n",
       "day_of_week         category\n",
       "time                category\n",
       "category            category\n",
       "attended            category\n",
       "dtype: object"
      ]
     },
     "execution_count": 549,
     "metadata": {},
     "output_type": "execute_result"
    }
   ],
   "source": [
    "# Ensure all data types are correct before moving on\n",
    "data['attended'] = data['attended'].astype('category')\n",
    "data.dtypes"
   ]
  },
  {
   "cell_type": "markdown",
   "id": "9a594616",
   "metadata": {},
   "source": [
    "### Question 2"
   ]
  },
  {
   "cell_type": "code",
   "execution_count": 609,
   "id": "1ad56ba6",
   "metadata": {},
   "outputs": [],
   "source": [
    "attended_df = data[data['attended'] == 1]"
   ]
  },
  {
   "cell_type": "code",
   "execution_count": 611,
   "id": "0ac26c39",
   "metadata": {},
   "outputs": [
    {
     "data": {
      "text/plain": [
       "<AxesSubplot:xlabel='category', ylabel='count'>"
      ]
     },
     "execution_count": 611,
     "metadata": {},
     "output_type": "execute_result"
    },
    {
     "data": {
      "image/png": "[encoded data removed]",
      "text/plain": [
       "<Figure size 640x480 with 1 Axes>"
      ]
     },
     "metadata": {},
     "output_type": "display_data"
    }
   ],
   "source": [
    "# Visualize bookings that attended\n",
    "sns.countplot(data = attended_df, x = 'category')"
   ]
  },
  {
   "cell_type": "code",
   "execution_count": 550,
   "id": "52b608d0",
   "metadata": {},
   "outputs": [
    {
     "data": {
      "text/plain": [
       "<AxesSubplot:xlabel='category', ylabel='count'>"
      ]
     },
     "execution_count": 550,
     "metadata": {},
     "output_type": "execute_result"
    },
    {
     "data": {
      "image/png": "[encoded data removed]",
      "text/plain": [
       "<Figure size 640x480 with 1 Axes>"
      ]
     },
     "metadata": {},
     "output_type": "display_data"
    }
   ],
   "source": [
    "# visualize how many bookings attended or did not attend the class\n",
    "sns.countplot(data = data, x = 'category', hue = 'attended')"
   ]
  },
  {
   "cell_type": "markdown",
   "id": "1ad22cd5",
   "metadata": {},
   "source": [
    "### Question 3"
   ]
  },
  {
   "cell_type": "code",
   "execution_count": 582,
   "id": "16780d0d",
   "metadata": {},
   "outputs": [
    {
     "data": {
      "text/plain": [
       "<AxesSubplot:xlabel='months_as_member', ylabel='Count'>"
      ]
     },
     "execution_count": 582,
     "metadata": {},
     "output_type": "execute_result"
    },
    {
     "data": {
      "image/png": "[encoded data removed]",
      "text/plain": [
       "<Figure size 640x480 with 1 Axes>"
      ]
     },
     "metadata": {},
     "output_type": "display_data"
    }
   ],
   "source": [
    "# Visualize 'months_as_member' distribution\n",
    "sns.histplot(data = data, x = \"months_as_member\")"
   ]
  },
  {
   "cell_type": "markdown",
   "id": "87f66745",
   "metadata": {},
   "source": [
    "### Question 4"
   ]
  },
  {
   "cell_type": "code",
   "execution_count": 552,
   "id": "824c0a10",
   "metadata": {},
   "outputs": [
    {
     "data": {
      "text/plain": [
       "<AxesSubplot:xlabel='attended', ylabel='months_as_member'>"
      ]
     },
     "execution_count": 552,
     "metadata": {},
     "output_type": "execute_result"
    },
    {
     "data": {
      "image/png": "[encoded data removed]",
      "text/plain": [
       "<Figure size 640x480 with 1 Axes>"
      ]
     },
     "metadata": {},
     "output_type": "display_data"
    }
   ],
   "source": [
    "# Observe relationship between attendance and months as a member\n",
    "sns.boxplot(data = data, x = 'attended', y = 'months_as_member')"
   ]
  },
  {
   "cell_type": "code",
   "execution_count": 553,
   "id": "ab08f593",
   "metadata": {},
   "outputs": [
    {
     "data": {
      "text/plain": [
       "KruskalResult(statistic=395.24440529633216, pvalue=5.972871195461503e-88)"
      ]
     },
     "execution_count": 553,
     "metadata": {},
     "output_type": "execute_result"
    }
   ],
   "source": [
    "# Kruskal-Wallace test to see if difference between groups is significant\n",
    "d_group0 = data[data['attended'] == 0]['months_as_member']\n",
    "d_group1 = data[data['attended'] == 1]['months_as_member']\n",
    "stats.kruskal(d_group0, d_group1)"
   ]
  },
  {
   "cell_type": "code",
   "execution_count": 583,
   "id": "8569ba87",
   "metadata": {},
   "outputs": [
    {
     "data": {
      "text/plain": [
       "<matplotlib.legend.Legend at 0x7f94d13307f0>"
      ]
     },
     "execution_count": 583,
     "metadata": {},
     "output_type": "execute_result"
    },
    {
     "data": {
      "image/png": "[encoded data removed]",
      "text/plain": [
       "<Figure size 640x480 with 1 Axes>"
      ]
     },
     "metadata": {},
     "output_type": "display_data"
    }
   ],
   "source": [
    "# Distributions of months as a member based on attendance\n",
    "plt.pyplot.hist(d_group0, bins = 50, alpha = 0.5, label = '0')\n",
    "plt.pyplot.hist(d_group1, bins = 50, alpha = 0.5, label = '1')\n",
    "plt.pyplot.legend(loc = 'upper right')"
   ]
  },
  {
   "cell_type": "markdown",
   "id": "6707819d",
   "metadata": {},
   "source": [
    "### Question 6"
   ]
  },
  {
   "cell_type": "code",
   "execution_count": 555,
   "id": "fd399874",
   "metadata": {},
   "outputs": [],
   "source": [
    "# Load required libraries\n",
    "from sklearn.model_selection import train_test_split\n",
    "from sklearn.preprocessing import OneHotEncoder, LabelEncoder\n",
    "from sklearn.tree import DecisionTreeClassifier\n",
    "from sklearn.metrics import confusion_matrix, ConfusionMatrixDisplay, accuracy_score"
   ]
  },
  {
   "cell_type": "code",
   "execution_count": 556,
   "id": "b0b69440",
   "metadata": {},
   "outputs": [],
   "source": [
    "# Encode nominal categorical data\n",
    "OHE = OneHotEncoder(handle_unknown = 'ignore')\n",
    "OHE_data = pd.DataFrame(OHE.fit_transform(data[['day_of_week', 'category']]).toarray(), columns = OHE.get_feature_names_out(['day_of_week', 'category']))\n",
    "OHE_df = data.join(OHE_data)"
   ]
  },
  {
   "cell_type": "code",
   "execution_count": 557,
   "id": "e8210cbf",
   "metadata": {},
   "outputs": [
    {
     "data": {
      "text/html": [
       "<div>\n",
       "<style scoped>\n",
       "    .dataframe tbody tr th:only-of-type {\n",
       "        vertical-align: middle;\n",
       "    }\n",
       "\n",
       "    .dataframe tbody tr th {\n",
       "        vertical-align: top;\n",
       "    }\n",
       "\n",
       "    .dataframe thead th {\n",
       "        text-align: right;\n",
       "    }\n",
       "</style>\n",
       "<table border=\"1\" class=\"dataframe\">\n",
       "  <thead>\n",
       "    <tr style=\"text-align: right;\">\n",
       "      <th></th>\n",
       "      <th>booking_id</th>\n",
       "      <th>months_as_member</th>\n",
       "      <th>weight</th>\n",
       "      <th>days_before</th>\n",
       "      <th>day_of_week</th>\n",
       "      <th>time</th>\n",
       "      <th>category</th>\n",
       "      <th>attended</th>\n",
       "      <th>day_of_week_Fri</th>\n",
       "      <th>day_of_week_Mon</th>\n",
       "      <th>...</th>\n",
       "      <th>day_of_week_Thu</th>\n",
       "      <th>day_of_week_Tue</th>\n",
       "      <th>day_of_week_Wed</th>\n",
       "      <th>category_Aqua</th>\n",
       "      <th>category_Cycling</th>\n",
       "      <th>category_HIIT</th>\n",
       "      <th>category_Strength</th>\n",
       "      <th>category_Yoga</th>\n",
       "      <th>category_unknown</th>\n",
       "      <th>time_LE</th>\n",
       "    </tr>\n",
       "  </thead>\n",
       "  <tbody>\n",
       "    <tr>\n",
       "      <th>0</th>\n",
       "      <td>1</td>\n",
       "      <td>17</td>\n",
       "      <td>79.56</td>\n",
       "      <td>8</td>\n",
       "      <td>Wed</td>\n",
       "      <td>PM</td>\n",
       "      <td>Strength</td>\n",
       "      <td>0</td>\n",
       "      <td>0.0</td>\n",
       "      <td>0.0</td>\n",
       "      <td>...</td>\n",
       "      <td>0.0</td>\n",
       "      <td>0.0</td>\n",
       "      <td>1.0</td>\n",
       "      <td>0.0</td>\n",
       "      <td>0.0</td>\n",
       "      <td>0.0</td>\n",
       "      <td>1.0</td>\n",
       "      <td>0.0</td>\n",
       "      <td>0.0</td>\n",
       "      <td>1</td>\n",
       "    </tr>\n",
       "    <tr>\n",
       "      <th>1</th>\n",
       "      <td>2</td>\n",
       "      <td>10</td>\n",
       "      <td>79.01</td>\n",
       "      <td>2</td>\n",
       "      <td>Mon</td>\n",
       "      <td>AM</td>\n",
       "      <td>HIIT</td>\n",
       "      <td>0</td>\n",
       "      <td>0.0</td>\n",
       "      <td>1.0</td>\n",
       "      <td>...</td>\n",
       "      <td>0.0</td>\n",
       "      <td>0.0</td>\n",
       "      <td>0.0</td>\n",
       "      <td>0.0</td>\n",
       "      <td>0.0</td>\n",
       "      <td>1.0</td>\n",
       "      <td>0.0</td>\n",
       "      <td>0.0</td>\n",
       "      <td>0.0</td>\n",
       "      <td>0</td>\n",
       "    </tr>\n",
       "    <tr>\n",
       "      <th>2</th>\n",
       "      <td>3</td>\n",
       "      <td>16</td>\n",
       "      <td>74.53</td>\n",
       "      <td>14</td>\n",
       "      <td>Sun</td>\n",
       "      <td>AM</td>\n",
       "      <td>Strength</td>\n",
       "      <td>0</td>\n",
       "      <td>0.0</td>\n",
       "      <td>0.0</td>\n",
       "      <td>...</td>\n",
       "      <td>0.0</td>\n",
       "      <td>0.0</td>\n",
       "      <td>0.0</td>\n",
       "      <td>0.0</td>\n",
       "      <td>0.0</td>\n",
       "      <td>0.0</td>\n",
       "      <td>1.0</td>\n",
       "      <td>0.0</td>\n",
       "      <td>0.0</td>\n",
       "      <td>0</td>\n",
       "    </tr>\n",
       "    <tr>\n",
       "      <th>3</th>\n",
       "      <td>4</td>\n",
       "      <td>5</td>\n",
       "      <td>86.12</td>\n",
       "      <td>10</td>\n",
       "      <td>Fri</td>\n",
       "      <td>AM</td>\n",
       "      <td>Cycling</td>\n",
       "      <td>0</td>\n",
       "      <td>1.0</td>\n",
       "      <td>0.0</td>\n",
       "      <td>...</td>\n",
       "      <td>0.0</td>\n",
       "      <td>0.0</td>\n",
       "      <td>0.0</td>\n",
       "      <td>0.0</td>\n",
       "      <td>1.0</td>\n",
       "      <td>0.0</td>\n",
       "      <td>0.0</td>\n",
       "      <td>0.0</td>\n",
       "      <td>0.0</td>\n",
       "      <td>0</td>\n",
       "    </tr>\n",
       "    <tr>\n",
       "      <th>4</th>\n",
       "      <td>5</td>\n",
       "      <td>15</td>\n",
       "      <td>69.29</td>\n",
       "      <td>8</td>\n",
       "      <td>Thu</td>\n",
       "      <td>AM</td>\n",
       "      <td>HIIT</td>\n",
       "      <td>0</td>\n",
       "      <td>0.0</td>\n",
       "      <td>0.0</td>\n",
       "      <td>...</td>\n",
       "      <td>1.0</td>\n",
       "      <td>0.0</td>\n",
       "      <td>0.0</td>\n",
       "      <td>0.0</td>\n",
       "      <td>0.0</td>\n",
       "      <td>1.0</td>\n",
       "      <td>0.0</td>\n",
       "      <td>0.0</td>\n",
       "      <td>0.0</td>\n",
       "      <td>0</td>\n",
       "    </tr>\n",
       "  </tbody>\n",
       "</table>\n",
       "<p>5 rows × 22 columns</p>\n",
       "</div>"
      ],
      "text/plain": [
       "  booking_id  months_as_member  weight  days_before day_of_week time  \\\n",
       "0          1                17   79.56            8         Wed   PM   \n",
       "1          2                10   79.01            2         Mon   AM   \n",
       "2          3                16   74.53           14         Sun   AM   \n",
       "3          4                 5   86.12           10         Fri   AM   \n",
       "4          5                15   69.29            8         Thu   AM   \n",
       "\n",
       "   category attended  day_of_week_Fri  day_of_week_Mon  ...  day_of_week_Thu  \\\n",
       "0  Strength        0              0.0              0.0  ...              0.0   \n",
       "1      HIIT        0              0.0              1.0  ...              0.0   \n",
       "2  Strength        0              0.0              0.0  ...              0.0   \n",
       "3   Cycling        0              1.0              0.0  ...              0.0   \n",
       "4      HIIT        0              0.0              0.0  ...              1.0   \n",
       "\n",
       "   day_of_week_Tue  day_of_week_Wed  category_Aqua  category_Cycling  \\\n",
       "0              0.0              1.0            0.0               0.0   \n",
       "1              0.0              0.0            0.0               0.0   \n",
       "2              0.0              0.0            0.0               0.0   \n",
       "3              0.0              0.0            0.0               1.0   \n",
       "4              0.0              0.0            0.0               0.0   \n",
       "\n",
       "   category_HIIT  category_Strength  category_Yoga  category_unknown  time_LE  \n",
       "0            0.0                1.0            0.0               0.0        1  \n",
       "1            1.0                0.0            0.0               0.0        0  \n",
       "2            0.0                1.0            0.0               0.0        0  \n",
       "3            0.0                0.0            0.0               0.0        0  \n",
       "4            1.0                0.0            0.0               0.0        0  \n",
       "\n",
       "[5 rows x 22 columns]"
      ]
     },
     "execution_count": 557,
     "metadata": {},
     "output_type": "execute_result"
    }
   ],
   "source": [
    "# Encode ordinal categorical data\n",
    "LE = LabelEncoder()\n",
    "LE_data = pd.DataFrame(LE.fit_transform(OHE_df['time']), columns=['time_LE'])\n",
    "LE_df = OHE_df.join(LE_data)\n",
    "LE_df.head()"
   ]
  },
  {
   "cell_type": "code",
   "execution_count": 558,
   "id": "7bef99b2",
   "metadata": {},
   "outputs": [],
   "source": [
    "# Prepare features and labels\n",
    "X = LE_df.drop(['booking_id', 'day_of_week', 'category', 'time', 'attended'], axis = 1)\n",
    "y = LE_df['attended']"
   ]
  },
  {
   "cell_type": "code",
   "execution_count": 559,
   "id": "d3e8a76e",
   "metadata": {},
   "outputs": [
    {
     "data": {
      "text/html": [
       "<div>\n",
       "<style scoped>\n",
       "    .dataframe tbody tr th:only-of-type {\n",
       "        vertical-align: middle;\n",
       "    }\n",
       "\n",
       "    .dataframe tbody tr th {\n",
       "        vertical-align: top;\n",
       "    }\n",
       "\n",
       "    .dataframe thead th {\n",
       "        text-align: right;\n",
       "    }\n",
       "</style>\n",
       "<table border=\"1\" class=\"dataframe\">\n",
       "  <thead>\n",
       "    <tr style=\"text-align: right;\">\n",
       "      <th></th>\n",
       "      <th>months_as_member</th>\n",
       "      <th>weight</th>\n",
       "      <th>days_before</th>\n",
       "      <th>day_of_week_Fri</th>\n",
       "      <th>day_of_week_Mon</th>\n",
       "      <th>day_of_week_Sat</th>\n",
       "      <th>day_of_week_Sun</th>\n",
       "      <th>day_of_week_Thu</th>\n",
       "      <th>day_of_week_Tue</th>\n",
       "      <th>day_of_week_Wed</th>\n",
       "      <th>category_Aqua</th>\n",
       "      <th>category_Cycling</th>\n",
       "      <th>category_HIIT</th>\n",
       "      <th>category_Strength</th>\n",
       "      <th>category_Yoga</th>\n",
       "      <th>category_unknown</th>\n",
       "      <th>time_LE</th>\n",
       "    </tr>\n",
       "  </thead>\n",
       "  <tbody>\n",
       "    <tr>\n",
       "      <th>0</th>\n",
       "      <td>17</td>\n",
       "      <td>79.56</td>\n",
       "      <td>8</td>\n",
       "      <td>0.0</td>\n",
       "      <td>0.0</td>\n",
       "      <td>0.0</td>\n",
       "      <td>0.0</td>\n",
       "      <td>0.0</td>\n",
       "      <td>0.0</td>\n",
       "      <td>1.0</td>\n",
       "      <td>0.0</td>\n",
       "      <td>0.0</td>\n",
       "      <td>0.0</td>\n",
       "      <td>1.0</td>\n",
       "      <td>0.0</td>\n",
       "      <td>0.0</td>\n",
       "      <td>1</td>\n",
       "    </tr>\n",
       "    <tr>\n",
       "      <th>1</th>\n",
       "      <td>10</td>\n",
       "      <td>79.01</td>\n",
       "      <td>2</td>\n",
       "      <td>0.0</td>\n",
       "      <td>1.0</td>\n",
       "      <td>0.0</td>\n",
       "      <td>0.0</td>\n",
       "      <td>0.0</td>\n",
       "      <td>0.0</td>\n",
       "      <td>0.0</td>\n",
       "      <td>0.0</td>\n",
       "      <td>0.0</td>\n",
       "      <td>1.0</td>\n",
       "      <td>0.0</td>\n",
       "      <td>0.0</td>\n",
       "      <td>0.0</td>\n",
       "      <td>0</td>\n",
       "    </tr>\n",
       "    <tr>\n",
       "      <th>2</th>\n",
       "      <td>16</td>\n",
       "      <td>74.53</td>\n",
       "      <td>14</td>\n",
       "      <td>0.0</td>\n",
       "      <td>0.0</td>\n",
       "      <td>0.0</td>\n",
       "      <td>1.0</td>\n",
       "      <td>0.0</td>\n",
       "      <td>0.0</td>\n",
       "      <td>0.0</td>\n",
       "      <td>0.0</td>\n",
       "      <td>0.0</td>\n",
       "      <td>0.0</td>\n",
       "      <td>1.0</td>\n",
       "      <td>0.0</td>\n",
       "      <td>0.0</td>\n",
       "      <td>0</td>\n",
       "    </tr>\n",
       "    <tr>\n",
       "      <th>3</th>\n",
       "      <td>5</td>\n",
       "      <td>86.12</td>\n",
       "      <td>10</td>\n",
       "      <td>1.0</td>\n",
       "      <td>0.0</td>\n",
       "      <td>0.0</td>\n",
       "      <td>0.0</td>\n",
       "      <td>0.0</td>\n",
       "      <td>0.0</td>\n",
       "      <td>0.0</td>\n",
       "      <td>0.0</td>\n",
       "      <td>1.0</td>\n",
       "      <td>0.0</td>\n",
       "      <td>0.0</td>\n",
       "      <td>0.0</td>\n",
       "      <td>0.0</td>\n",
       "      <td>0</td>\n",
       "    </tr>\n",
       "    <tr>\n",
       "      <th>4</th>\n",
       "      <td>15</td>\n",
       "      <td>69.29</td>\n",
       "      <td>8</td>\n",
       "      <td>0.0</td>\n",
       "      <td>0.0</td>\n",
       "      <td>0.0</td>\n",
       "      <td>0.0</td>\n",
       "      <td>1.0</td>\n",
       "      <td>0.0</td>\n",
       "      <td>0.0</td>\n",
       "      <td>0.0</td>\n",
       "      <td>0.0</td>\n",
       "      <td>1.0</td>\n",
       "      <td>0.0</td>\n",
       "      <td>0.0</td>\n",
       "      <td>0.0</td>\n",
       "      <td>0</td>\n",
       "    </tr>\n",
       "    <tr>\n",
       "      <th>...</th>\n",
       "      <td>...</td>\n",
       "      <td>...</td>\n",
       "      <td>...</td>\n",
       "      <td>...</td>\n",
       "      <td>...</td>\n",
       "      <td>...</td>\n",
       "      <td>...</td>\n",
       "      <td>...</td>\n",
       "      <td>...</td>\n",
       "      <td>...</td>\n",
       "      <td>...</td>\n",
       "      <td>...</td>\n",
       "      <td>...</td>\n",
       "      <td>...</td>\n",
       "      <td>...</td>\n",
       "      <td>...</td>\n",
       "      <td>...</td>\n",
       "    </tr>\n",
       "    <tr>\n",
       "      <th>1495</th>\n",
       "      <td>21</td>\n",
       "      <td>79.51</td>\n",
       "      <td>10</td>\n",
       "      <td>1.0</td>\n",
       "      <td>0.0</td>\n",
       "      <td>0.0</td>\n",
       "      <td>0.0</td>\n",
       "      <td>0.0</td>\n",
       "      <td>0.0</td>\n",
       "      <td>0.0</td>\n",
       "      <td>0.0</td>\n",
       "      <td>0.0</td>\n",
       "      <td>1.0</td>\n",
       "      <td>0.0</td>\n",
       "      <td>0.0</td>\n",
       "      <td>0.0</td>\n",
       "      <td>0</td>\n",
       "    </tr>\n",
       "    <tr>\n",
       "      <th>1496</th>\n",
       "      <td>29</td>\n",
       "      <td>89.55</td>\n",
       "      <td>2</td>\n",
       "      <td>0.0</td>\n",
       "      <td>1.0</td>\n",
       "      <td>0.0</td>\n",
       "      <td>0.0</td>\n",
       "      <td>0.0</td>\n",
       "      <td>0.0</td>\n",
       "      <td>0.0</td>\n",
       "      <td>0.0</td>\n",
       "      <td>0.0</td>\n",
       "      <td>0.0</td>\n",
       "      <td>1.0</td>\n",
       "      <td>0.0</td>\n",
       "      <td>0.0</td>\n",
       "      <td>0</td>\n",
       "    </tr>\n",
       "    <tr>\n",
       "      <th>1497</th>\n",
       "      <td>9</td>\n",
       "      <td>87.38</td>\n",
       "      <td>4</td>\n",
       "      <td>0.0</td>\n",
       "      <td>0.0</td>\n",
       "      <td>0.0</td>\n",
       "      <td>0.0</td>\n",
       "      <td>0.0</td>\n",
       "      <td>1.0</td>\n",
       "      <td>0.0</td>\n",
       "      <td>0.0</td>\n",
       "      <td>0.0</td>\n",
       "      <td>1.0</td>\n",
       "      <td>0.0</td>\n",
       "      <td>0.0</td>\n",
       "      <td>0.0</td>\n",
       "      <td>0</td>\n",
       "    </tr>\n",
       "    <tr>\n",
       "      <th>1498</th>\n",
       "      <td>34</td>\n",
       "      <td>68.64</td>\n",
       "      <td>14</td>\n",
       "      <td>0.0</td>\n",
       "      <td>0.0</td>\n",
       "      <td>0.0</td>\n",
       "      <td>1.0</td>\n",
       "      <td>0.0</td>\n",
       "      <td>0.0</td>\n",
       "      <td>0.0</td>\n",
       "      <td>1.0</td>\n",
       "      <td>0.0</td>\n",
       "      <td>0.0</td>\n",
       "      <td>0.0</td>\n",
       "      <td>0.0</td>\n",
       "      <td>0.0</td>\n",
       "      <td>0</td>\n",
       "    </tr>\n",
       "    <tr>\n",
       "      <th>1499</th>\n",
       "      <td>20</td>\n",
       "      <td>94.39</td>\n",
       "      <td>8</td>\n",
       "      <td>0.0</td>\n",
       "      <td>0.0</td>\n",
       "      <td>0.0</td>\n",
       "      <td>0.0</td>\n",
       "      <td>1.0</td>\n",
       "      <td>0.0</td>\n",
       "      <td>0.0</td>\n",
       "      <td>0.0</td>\n",
       "      <td>1.0</td>\n",
       "      <td>0.0</td>\n",
       "      <td>0.0</td>\n",
       "      <td>0.0</td>\n",
       "      <td>0.0</td>\n",
       "      <td>0</td>\n",
       "    </tr>\n",
       "  </tbody>\n",
       "</table>\n",
       "<p>1500 rows × 17 columns</p>\n",
       "</div>"
      ],
      "text/plain": [
       "      months_as_member  weight  days_before  day_of_week_Fri  day_of_week_Mon  \\\n",
       "0                   17   79.56            8              0.0              0.0   \n",
       "1                   10   79.01            2              0.0              1.0   \n",
       "2                   16   74.53           14              0.0              0.0   \n",
       "3                    5   86.12           10              1.0              0.0   \n",
       "4                   15   69.29            8              0.0              0.0   \n",
       "...                ...     ...          ...              ...              ...   \n",
       "1495                21   79.51           10              1.0              0.0   \n",
       "1496                29   89.55            2              0.0              1.0   \n",
       "1497                 9   87.38            4              0.0              0.0   \n",
       "1498                34   68.64           14              0.0              0.0   \n",
       "1499                20   94.39            8              0.0              0.0   \n",
       "\n",
       "      day_of_week_Sat  day_of_week_Sun  day_of_week_Thu  day_of_week_Tue  \\\n",
       "0                 0.0              0.0              0.0              0.0   \n",
       "1                 0.0              0.0              0.0              0.0   \n",
       "2                 0.0              1.0              0.0              0.0   \n",
       "3                 0.0              0.0              0.0              0.0   \n",
       "4                 0.0              0.0              1.0              0.0   \n",
       "...               ...              ...              ...              ...   \n",
       "1495              0.0              0.0              0.0              0.0   \n",
       "1496              0.0              0.0              0.0              0.0   \n",
       "1497              0.0              0.0              0.0              1.0   \n",
       "1498              0.0              1.0              0.0              0.0   \n",
       "1499              0.0              0.0              1.0              0.0   \n",
       "\n",
       "      day_of_week_Wed  category_Aqua  category_Cycling  category_HIIT  \\\n",
       "0                 1.0            0.0               0.0            0.0   \n",
       "1                 0.0            0.0               0.0            1.0   \n",
       "2                 0.0            0.0               0.0            0.0   \n",
       "3                 0.0            0.0               1.0            0.0   \n",
       "4                 0.0            0.0               0.0            1.0   \n",
       "...               ...            ...               ...            ...   \n",
       "1495              0.0            0.0               0.0            1.0   \n",
       "1496              0.0            0.0               0.0            0.0   \n",
       "1497              0.0            0.0               0.0            1.0   \n",
       "1498              0.0            1.0               0.0            0.0   \n",
       "1499              0.0            0.0               1.0            0.0   \n",
       "\n",
       "      category_Strength  category_Yoga  category_unknown  time_LE  \n",
       "0                   1.0            0.0               0.0        1  \n",
       "1                   0.0            0.0               0.0        0  \n",
       "2                   1.0            0.0               0.0        0  \n",
       "3                   0.0            0.0               0.0        0  \n",
       "4                   0.0            0.0               0.0        0  \n",
       "...                 ...            ...               ...      ...  \n",
       "1495                0.0            0.0               0.0        0  \n",
       "1496                1.0            0.0               0.0        0  \n",
       "1497                0.0            0.0               0.0        0  \n",
       "1498                0.0            0.0               0.0        0  \n",
       "1499                0.0            0.0               0.0        0  \n",
       "\n",
       "[1500 rows x 17 columns]"
      ]
     },
     "execution_count": 559,
     "metadata": {},
     "output_type": "execute_result"
    }
   ],
   "source": [
    "X"
   ]
  },
  {
   "cell_type": "code",
   "execution_count": 560,
   "id": "ef419e75",
   "metadata": {},
   "outputs": [
    {
     "data": {
      "text/plain": [
       "0       0\n",
       "1       0\n",
       "2       0\n",
       "3       0\n",
       "4       0\n",
       "       ..\n",
       "1495    0\n",
       "1496    0\n",
       "1497    0\n",
       "1498    0\n",
       "1499    1\n",
       "Name: attended, Length: 1500, dtype: category\n",
       "Categories (2, int64): [0, 1]"
      ]
     },
     "execution_count": 560,
     "metadata": {},
     "output_type": "execute_result"
    }
   ],
   "source": [
    "y"
   ]
  },
  {
   "cell_type": "code",
   "execution_count": 561,
   "id": "963af8ba",
   "metadata": {},
   "outputs": [],
   "source": [
    "# Train test split data (70:30)\n",
    "X_train, X_test, y_train, y_test = train_test_split(X, y , test_size=0.3, random_state=0)"
   ]
  },
  {
   "cell_type": "code",
   "execution_count": 562,
   "id": "1d1cd22e",
   "metadata": {},
   "outputs": [
    {
     "name": "stdout",
     "output_type": "stream",
     "text": [
      "X_train =  (1050, 17)\n",
      "y_train =  (1050,)\n",
      "X_test =  (450, 17)\n",
      "y_test =  (450,)\n"
     ]
    }
   ],
   "source": [
    "# Ensure datasets are proper shape\n",
    "print('X_train = ', X_train.shape)\n",
    "print('y_train = ', y_train.shape)\n",
    "print('X_test = ', X_test.shape)\n",
    "print('y_test = ', y_test.shape)"
   ]
  },
  {
   "cell_type": "code",
   "execution_count": 563,
   "id": "71bcea63",
   "metadata": {},
   "outputs": [
    {
     "data": {
      "text/plain": [
       "DecisionTreeClassifier()"
      ]
     },
     "execution_count": 563,
     "metadata": {},
     "output_type": "execute_result"
    }
   ],
   "source": [
    "# Instantiate Decision Tree, fit, and predict\n",
    "DT_model = DecisionTreeClassifier()\n",
    "DT_model.fit(X_train, y_train)"
   ]
  },
  {
   "cell_type": "code",
   "execution_count": 564,
   "id": "18a22484",
   "metadata": {},
   "outputs": [],
   "source": [
    "# Predict values and determine accuracy\n",
    "DT_predictions = DT_model.predict(X_test)"
   ]
  },
  {
   "cell_type": "code",
   "execution_count": 613,
   "id": "fdad0a4e",
   "metadata": {},
   "outputs": [
    {
     "data": {
      "text/html": [
       "<div>\n",
       "<style scoped>\n",
       "    .dataframe tbody tr th:only-of-type {\n",
       "        vertical-align: middle;\n",
       "    }\n",
       "\n",
       "    .dataframe tbody tr th {\n",
       "        vertical-align: top;\n",
       "    }\n",
       "\n",
       "    .dataframe thead th {\n",
       "        text-align: right;\n",
       "    }\n",
       "</style>\n",
       "<table border=\"1\" class=\"dataframe\">\n",
       "  <thead>\n",
       "    <tr style=\"text-align: right;\">\n",
       "      <th></th>\n",
       "      <th>Feature</th>\n",
       "      <th>Importance</th>\n",
       "    </tr>\n",
       "  </thead>\n",
       "  <tbody>\n",
       "    <tr>\n",
       "      <th>0</th>\n",
       "      <td>months_as_member</td>\n",
       "      <td>0.369051</td>\n",
       "    </tr>\n",
       "    <tr>\n",
       "      <th>1</th>\n",
       "      <td>weight</td>\n",
       "      <td>0.344537</td>\n",
       "    </tr>\n",
       "    <tr>\n",
       "      <th>2</th>\n",
       "      <td>days_before</td>\n",
       "      <td>0.071324</td>\n",
       "    </tr>\n",
       "    <tr>\n",
       "      <th>3</th>\n",
       "      <td>category_HIIT</td>\n",
       "      <td>0.037678</td>\n",
       "    </tr>\n",
       "    <tr>\n",
       "      <th>4</th>\n",
       "      <td>category_Cycling</td>\n",
       "      <td>0.035458</td>\n",
       "    </tr>\n",
       "  </tbody>\n",
       "</table>\n",
       "</div>"
      ],
      "text/plain": [
       "            Feature  Importance\n",
       "0  months_as_member    0.369051\n",
       "1            weight    0.344537\n",
       "2       days_before    0.071324\n",
       "3     category_HIIT    0.037678\n",
       "4  category_Cycling    0.035458"
      ]
     },
     "execution_count": 613,
     "metadata": {},
     "output_type": "execute_result"
    }
   ],
   "source": [
    "# Extract feature importance and make df\n",
    "DT_features= {}\n",
    "for col, val in sorted(zip(X_train.columns, DT_model.feature_importances_),key=lambda x:x[1],reverse=True):\n",
    "  DT_features[col]=val\n",
    "\n",
    "DT_feature_df = pd.DataFrame({'Feature':DT_features.keys(),'Importance':DT_features.values()})\n",
    "DT_feature_df.head()"
   ]
  },
  {
   "cell_type": "code",
   "execution_count": 604,
   "id": "94077866",
   "metadata": {},
   "outputs": [
    {
     "data": {
      "text/plain": [
       "<AxesSubplot:xlabel='Importance', ylabel='Feature'>"
      ]
     },
     "execution_count": 604,
     "metadata": {},
     "output_type": "execute_result"
    },
    {
     "data": {
      "image/png": "[encoded data removed]",
      "text/plain": [
       "<Figure size 640x480 with 1 Axes>"
      ]
     },
     "metadata": {},
     "output_type": "display_data"
    }
   ],
   "source": [
    "# Plot feature importance for Decision Tree model\n",
    "sns.barplot(data=DT_feature_df, x = 'Importance', y = 'Feature')"
   ]
  },
  {
   "cell_type": "markdown",
   "id": "e1f6ab21",
   "metadata": {},
   "source": [
    "### Question 7"
   ]
  },
  {
   "cell_type": "code",
   "execution_count": 565,
   "id": "e32c3939",
   "metadata": {},
   "outputs": [],
   "source": [
    "# Load required module\n",
    "from sklearn.ensemble import RandomForestClassifier"
   ]
  },
  {
   "cell_type": "code",
   "execution_count": 566,
   "id": "a93e0ddf",
   "metadata": {},
   "outputs": [
    {
     "data": {
      "text/plain": [
       "RandomForestClassifier()"
      ]
     },
     "execution_count": 566,
     "metadata": {},
     "output_type": "execute_result"
    }
   ],
   "source": [
    "# Instantiate Random Forest and train model\n",
    "RFC_model = RandomForestClassifier(n_estimators = 100)\n",
    "RFC_model.fit(X_train, y_train)"
   ]
  },
  {
   "cell_type": "code",
   "execution_count": null,
   "id": "88279bb1",
   "metadata": {},
   "outputs": [],
   "source": [
    "# Predict values and determine accuracy\n",
    "DT_predictions = DT_model.predict(X_test)"
   ]
  },
  {
   "cell_type": "code",
   "execution_count": 612,
   "id": "cb530383",
   "metadata": {},
   "outputs": [
    {
     "data": {
      "text/html": [
       "<div>\n",
       "<style scoped>\n",
       "    .dataframe tbody tr th:only-of-type {\n",
       "        vertical-align: middle;\n",
       "    }\n",
       "\n",
       "    .dataframe tbody tr th {\n",
       "        vertical-align: top;\n",
       "    }\n",
       "\n",
       "    .dataframe thead th {\n",
       "        text-align: right;\n",
       "    }\n",
       "</style>\n",
       "<table border=\"1\" class=\"dataframe\">\n",
       "  <thead>\n",
       "    <tr style=\"text-align: right;\">\n",
       "      <th></th>\n",
       "      <th>Feature</th>\n",
       "      <th>Importance</th>\n",
       "    </tr>\n",
       "  </thead>\n",
       "  <tbody>\n",
       "    <tr>\n",
       "      <th>0</th>\n",
       "      <td>months_as_member</td>\n",
       "      <td>0.417013</td>\n",
       "    </tr>\n",
       "    <tr>\n",
       "      <th>1</th>\n",
       "      <td>weight</td>\n",
       "      <td>0.342641</td>\n",
       "    </tr>\n",
       "    <tr>\n",
       "      <th>2</th>\n",
       "      <td>days_before</td>\n",
       "      <td>0.065845</td>\n",
       "    </tr>\n",
       "    <tr>\n",
       "      <th>3</th>\n",
       "      <td>category_HIIT</td>\n",
       "      <td>0.021043</td>\n",
       "    </tr>\n",
       "    <tr>\n",
       "      <th>4</th>\n",
       "      <td>time_LE</td>\n",
       "      <td>0.020657</td>\n",
       "    </tr>\n",
       "  </tbody>\n",
       "</table>\n",
       "</div>"
      ],
      "text/plain": [
       "            Feature  Importance\n",
       "0  months_as_member    0.417013\n",
       "1            weight    0.342641\n",
       "2       days_before    0.065845\n",
       "3     category_HIIT    0.021043\n",
       "4           time_LE    0.020657"
      ]
     },
     "execution_count": 612,
     "metadata": {},
     "output_type": "execute_result"
    }
   ],
   "source": [
    "# Extract feature importance and make df\n",
    "RF_features= {}\n",
    "for col, val in sorted(zip(X_train.columns, RFC_model.feature_importances_),key=lambda x:x[1],reverse=True):\n",
    "  RF_features[col]=val\n",
    "\n",
    "RF_feature_df = pd.DataFrame({'Feature':RF_features.keys(),'Importance':RF_features.values()})\n",
    "RF_feature_df.head()"
   ]
  },
  {
   "cell_type": "code",
   "execution_count": 608,
   "id": "ec6e1d67",
   "metadata": {},
   "outputs": [
    {
     "data": {
      "text/plain": [
       "<AxesSubplot:xlabel='Importance', ylabel='Feature'>"
      ]
     },
     "execution_count": 608,
     "metadata": {},
     "output_type": "execute_result"
    },
    {
     "data": {
      "image/png": "[encoded data removed]",
      "text/plain": [
       "<Figure size 640x480 with 1 Axes>"
      ]
     },
     "metadata": {},
     "output_type": "display_data"
    }
   ],
   "source": [
    "# Plot feature importance for Random Forest model\n",
    "sns.barplot(data=RF_feature_df, x = 'Importance', y = 'Feature')"
   ]
  },
  {
   "cell_type": "markdown",
   "id": "ff32d1e4",
   "metadata": {},
   "source": [
    "### Question 9"
   ]
  },
  {
   "cell_type": "code",
   "execution_count": 568,
   "id": "e37e38bf",
   "metadata": {},
   "outputs": [],
   "source": [
    "# Load required metrics\n",
    "from sklearn.metrics import precision_score, recall_score"
   ]
  },
  {
   "cell_type": "code",
   "execution_count": 569,
   "id": "63584676",
   "metadata": {},
   "outputs": [
    {
     "data": {
      "text/plain": [
       "0.7133333333333334"
      ]
     },
     "execution_count": 569,
     "metadata": {},
     "output_type": "execute_result"
    }
   ],
   "source": [
    "# Decision Tree accuracy\n",
    "DT_acc = accuracy_score(y_test, DT_predictions)\n",
    "DT_acc"
   ]
  },
  {
   "cell_type": "code",
   "execution_count": 570,
   "id": "7db9d918",
   "metadata": {},
   "outputs": [
    {
     "data": {
      "text/plain": [
       "0.7466666666666667"
      ]
     },
     "execution_count": 570,
     "metadata": {},
     "output_type": "execute_result"
    }
   ],
   "source": [
    "# Random Forest accuracy\n",
    "RFC_acc = accuracy_score(y_test, RFC_predictions)\n",
    "RFC_acc"
   ]
  },
  {
   "cell_type": "code",
   "execution_count": 571,
   "id": "8f26fb0d",
   "metadata": {
    "scrolled": false
   },
   "outputs": [
    {
     "data": {
      "text/plain": [
       "<sklearn.metrics._plot.confusion_matrix.ConfusionMatrixDisplay at 0x7f94d282ad60>"
      ]
     },
     "execution_count": 571,
     "metadata": {},
     "output_type": "execute_result"
    },
    {
     "data": {
      "image/png": "[encoded data removed]",
      "text/plain": [
       "<Figure size 640x480 with 2 Axes>"
      ]
     },
     "metadata": {},
     "output_type": "display_data"
    }
   ],
   "source": [
    "# Confusion matrix for Decision Tree\n",
    "cm = confusion_matrix(y_test, DT_predictions, labels = DT_model.classes_)\n",
    "ConfusionMatrixDisplay(confusion_matrix = cm, display_labels = DT_model.classes_).plot()"
   ]
  },
  {
   "cell_type": "code",
   "execution_count": 572,
   "id": "5be3c5f4",
   "metadata": {},
   "outputs": [
    {
     "data": {
      "text/plain": [
       "<sklearn.metrics._plot.confusion_matrix.ConfusionMatrixDisplay at 0x7f94d2845d00>"
      ]
     },
     "execution_count": 572,
     "metadata": {},
     "output_type": "execute_result"
    },
    {
     "data": {
      "image/png": "[encoded data removed]",
      "text/plain": [
       "<Figure size 640x480 with 2 Axes>"
      ]
     },
     "metadata": {},
     "output_type": "display_data"
    }
   ],
   "source": [
    "# Confusion matrix for Random Forest\n",
    "cm = confusion_matrix(y_test, RFC_predictions, labels = RFC_model.classes_)\n",
    "ConfusionMatrixDisplay(confusion_matrix = cm, display_labels = RFC_model.classes_).plot()"
   ]
  },
  {
   "cell_type": "code",
   "execution_count": 573,
   "id": "7546e16d",
   "metadata": {},
   "outputs": [],
   "source": [
    "# Calculate accuracy, precision, and recall scores for Decision Tree\n",
    "accuracy = accuracy_score(DT_predictions, y_test)\n",
    "precision = precision_score(DT_predictions, y_test)\n",
    "recall = recall_score(DT_predictions, y_test)\n",
    "\n",
    "apr_dict = {'DecisionTree': [accuracy, precision, recall]}"
   ]
  },
  {
   "cell_type": "code",
   "execution_count": 574,
   "id": "5a8084c1",
   "metadata": {},
   "outputs": [],
   "source": [
    "# Calculate accuracy, precision, and recall scores for Random Forest\n",
    "accuracy = accuracy_score(RFC_predictions, y_test)\n",
    "precision = precision_score(RFC_predictions, y_test)\n",
    "recall = recall_score(RFC_predictions, y_test)\n",
    "\n",
    "apr_dict.update({'RandomForest': [accuracy, precision, recall]})"
   ]
  },
  {
   "cell_type": "code",
   "execution_count": 575,
   "id": "303e0cbd",
   "metadata": {},
   "outputs": [
    {
     "data": {
      "text/html": [
       "<div>\n",
       "<style scoped>\n",
       "    .dataframe tbody tr th:only-of-type {\n",
       "        vertical-align: middle;\n",
       "    }\n",
       "\n",
       "    .dataframe tbody tr th {\n",
       "        vertical-align: top;\n",
       "    }\n",
       "\n",
       "    .dataframe thead th {\n",
       "        text-align: right;\n",
       "    }\n",
       "</style>\n",
       "<table border=\"1\" class=\"dataframe\">\n",
       "  <thead>\n",
       "    <tr style=\"text-align: right;\">\n",
       "      <th></th>\n",
       "      <th>accuracy</th>\n",
       "      <th>precision</th>\n",
       "      <th>recall</th>\n",
       "    </tr>\n",
       "  </thead>\n",
       "  <tbody>\n",
       "    <tr>\n",
       "      <th>DecisionTree</th>\n",
       "      <td>0.713333</td>\n",
       "      <td>0.585034</td>\n",
       "      <td>0.558442</td>\n",
       "    </tr>\n",
       "    <tr>\n",
       "      <th>RandomForest</th>\n",
       "      <td>0.746667</td>\n",
       "      <td>0.462585</td>\n",
       "      <td>0.660194</td>\n",
       "    </tr>\n",
       "  </tbody>\n",
       "</table>\n",
       "</div>"
      ],
      "text/plain": [
       "              accuracy  precision    recall\n",
       "DecisionTree  0.713333   0.585034  0.558442\n",
       "RandomForest  0.746667   0.462585  0.660194"
      ]
     },
     "execution_count": 575,
     "metadata": {},
     "output_type": "execute_result"
    }
   ],
   "source": [
    "# Make dataframe with results\n",
    "model_comparison = pd.DataFrame.from_dict(apr_dict, orient='index', columns = ['accuracy', 'precision', 'recall'])\n",
    "model_comparison"
   ]
  },
  {
   "cell_type": "code",
   "execution_count": 576,
   "id": "859e7840",
   "metadata": {},
   "outputs": [
    {
     "data": {
      "image/png": "[encoded data removed]",
      "text/plain": [
       "<Figure size 640x480 with 1 Axes>"
      ]
     },
     "metadata": {},
     "output_type": "display_data"
    }
   ],
   "source": [
    "# And plot\n",
    "ax = model_comparison.plot.barh()\n",
    "ax.legend(\n",
    "    ncol=3,\n",
    "    bbox_to_anchor=(0, 1), \n",
    "    loc='lower left',\n",
    "    prop={'size': 14})\n",
    "pyplot.tight_layout()"
   ]
  },
  {
   "cell_type": "markdown",
   "id": "2c698432",
   "metadata": {},
   "source": [
    "# Extra"
   ]
  },
  {
   "cell_type": "markdown",
   "id": "8b130b72",
   "metadata": {},
   "source": [
    "### Other models, analyses, and thoughts"
   ]
  },
  {
   "cell_type": "code",
   "execution_count": 577,
   "id": "bb0460e4",
   "metadata": {},
   "outputs": [],
   "source": [
    "# Import model\n",
    "from sklearn.svm import SVC"
   ]
  },
  {
   "cell_type": "code",
   "execution_count": 578,
   "id": "f29411a2",
   "metadata": {},
   "outputs": [],
   "source": [
    "# Instantiate support vector classification\n",
    "SVC_model = SVC()"
   ]
  },
  {
   "cell_type": "code",
   "execution_count": 579,
   "id": "4cb583ec",
   "metadata": {},
   "outputs": [
    {
     "name": "stdout",
     "output_type": "stream",
     "text": [
      "0.74\n",
      "0.30612244897959184\n",
      "0.75\n"
     ]
    },
    {
     "data": {
      "image/png": "[encoded data removed]",
      "text/plain": [
       "<Figure size 640x480 with 2 Axes>"
      ]
     },
     "metadata": {},
     "output_type": "display_data"
    }
   ],
   "source": [
    "# Fit, predict, and plot confusion matrix\n",
    "SVC_model.fit(X_train, y_train)\n",
    "SVC_predictions = svc.predict(X_test)\n",
    "cm = confusion_matrix(y_test, SVC_predictions, labels = SVC_model.classes_)\n",
    "ConfusionMatrixDisplay(confusion_matrix = cm, display_labels = SVC_model.classes_).plot()\n",
    "print(accuracy_score(SVC_predictions, y_test))\n",
    "print(precision_score(SVC_predictions, y_test))\n",
    "print(recall_score(SVC_predictions, y_test))"
   ]
  },
  {
   "cell_type": "code",
   "execution_count": 580,
   "id": "98ff206b",
   "metadata": {},
   "outputs": [
    {
     "data": {
      "text/plain": [
       "<matplotlib.legend.Legend at 0x7f94d36cb5b0>"
      ]
     },
     "execution_count": 580,
     "metadata": {},
     "output_type": "execute_result"
    },
    {
     "data": {
      "image/png": "[encoded data removed]",
      "text/plain": [
       "<Figure size 640x480 with 1 Axes>"
      ]
     },
     "metadata": {},
     "output_type": "display_data"
    }
   ],
   "source": [
    "# Calculate accuracy, precision, and recall scores for SVC and plot\n",
    "accuracy = accuracy_score(SVC_predictions, y_test)\n",
    "precision = precision_score(SVC_predictions, y_test)\n",
    "recall = recall_score(SVC_predictions, y_test)\n",
    "\n",
    "svc_dict = {'SVC': [accuracy, precision, recall]}\n",
    "\n",
    "svc_df = pd.DataFrame.from_dict(svc_dict, orient='index', columns = ['accuracy', 'precision', 'recall'])\n",
    "ax = svc_df.plot.barh()\n",
    "ax.legend(\n",
    "    ncol=3,\n",
    "    bbox_to_anchor=(0, 1), \n",
    "    loc='lower left',\n",
    "    prop={'size': 14})"
   ]
  }
 ],
 "metadata": {
  "kernelspec": {
   "display_name": "Python 3 (ipykernel)",
   "language": "python",
   "name": "python3"
  },
  "language_info": {
   "codemirror_mode": {
    "name": "ipython",
    "version": 3
   },
   "file_extension": ".py",
   "mimetype": "text/x-python",
   "name": "python",
   "nbconvert_exporter": "python",
   "pygments_lexer": "ipython3",
   "version": "3.9.13"
  }
 },
 "nbformat": 4,
 "nbformat_minor": 5
}
